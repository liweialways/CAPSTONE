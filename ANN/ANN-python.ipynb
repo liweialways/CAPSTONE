{
 "cells": [
  {
   "cell_type": "code",
   "execution_count": 36,
   "metadata": {},
   "outputs": [],
   "source": [
    "import pandas as pd\n",
    "import numpy as np\n",
    "from sklearn import metrics\n",
    "from sklearn.preprocessing import StandardScaler\n",
    "from sklearn.neural_network import MLPClassifier\n",
    "from sklearn.neural_network import MLPRegressor\n",
    "from sklearn.metrics import mean_absolute_error\n",
    "\n",
    "h1_train = pd.read_csv(\"h1_train.csv\", sep=',',header=0, index_col=0)\n",
    "h1_test = pd.read_csv(\"h1_test.csv\", sep=',',header=0, index_col=0)"
   ]
  },
  {
   "cell_type": "markdown",
   "metadata": {},
   "source": [
    "# Atlanta"
   ]
  },
  {
   "cell_type": "code",
   "execution_count": 37,
   "metadata": {},
   "outputs": [],
   "source": [
    "X_train = h1_train[['days_prior', 'day_type', 'OP_FENC',\n",
    "       'CORP_BUS', 'MEM_OTHER', 'GOV_UNFENC', 'GROUP', 'price',\n",
    "       'cummulative_gross_bookings']]\n",
    "X_test = h1_test[['days_prior', 'day_type', 'OP_FENC',\n",
    "       'CORP_BUS', 'MEM_OTHER', 'GOV_UNFENC', 'GROUP', 'price',\n",
    "       'cummulative_gross_bookings']]\n",
    "y_train = h1_train['OTB_cxl_rate']\n",
    "y_test = h1_test['OTB_cxl_rate']\n",
    "\n",
    "scaler = StandardScaler()\n",
    "scaler.fit(X_train)\n",
    "X_train_scl = scaler.transform(X_train)\n",
    "X_test_scl = scaler.transform(X_test)"
   ]
  },
  {
   "cell_type": "code",
   "execution_count": 38,
   "metadata": {},
   "outputs": [],
   "source": [
    "## Multi-layer perceptron classification - one hidden layer of 3 neurons\n",
    "mlp = MLPRegressor(hidden_layer_sizes=(3), max_iter=1000)  \n",
    "mlp.fit(X_train_scl, y_train)\n",
    "\n",
    "h1_train['predict_cxl_rate']=list(mlp.predict(X_train_scl))\n",
    "h1_test['predict_cxl_rate']=list(mlp.predict(X_test_scl))  \n"
   ]
  },
  {
   "cell_type": "code",
   "execution_count": 39,
   "metadata": {},
   "outputs": [],
   "source": [
    "h1_train.to_csv('a_1_trn.csv')\n",
    "h1_test.to_csv('a_1_tst.csv')\n"
   ]
  },
  {
   "cell_type": "code",
   "execution_count": null,
   "metadata": {},
   "outputs": [],
   "source": []
  }
 ],
 "metadata": {
  "kernelspec": {
   "display_name": "Python 3",
   "language": "python",
   "name": "python3"
  },
  "language_info": {
   "codemirror_mode": {
    "name": "ipython",
    "version": 3
   },
   "file_extension": ".py",
   "mimetype": "text/x-python",
   "name": "python",
   "nbconvert_exporter": "python",
   "pygments_lexer": "ipython3",
   "version": "3.7.3"
  }
 },
 "nbformat": 4,
 "nbformat_minor": 2
}
