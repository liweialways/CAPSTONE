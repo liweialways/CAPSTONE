{
 "cells": [
  {
   "cell_type": "code",
   "execution_count": 38,
   "metadata": {},
   "outputs": [
    {
     "data": {
      "text/plain": [
       "(11295, 31)"
      ]
     },
     "execution_count": 38,
     "metadata": {},
     "output_type": "execute_result"
    }
   ],
   "source": [
    "import pandas as pd\n",
    "import numpy as np\n",
    "from sklearn import metrics\n",
    "from sklearn.preprocessing import StandardScaler\n",
    "from sklearn.neural_network import MLPClassifier\n",
    "from sklearn.neural_network import MLPRegressor\n",
    "from sklearn.metrics import mean_absolute_error"
   ]
  },
  {
   "cell_type": "code",
   "execution_count": 57,
   "metadata": {},
   "outputs": [],
   "source": [
    "# function to get MAPE\n",
    "def mean_absolute_percentage_error(y_true, y_pred): \n",
    "    y_true, y_pred = np.array(y_true), np.array(y_pred)\n",
    "    return np.mean(np.abs((y_true - y_pred) / y_true)) "
   ]
  },
  {
   "cell_type": "code",
   "execution_count": 64,
   "metadata": {},
   "outputs": [],
   "source": [
    "# function to get MAE, MAPE, MASE\n",
    "def eval(df):\n",
    "    df['fcst_svv']=df['OTB']-df['OTB']*df['predict_cxl_rate']\n",
    "    df=df[df['days_prior']!=0]\n",
    "    avg_svv_rt = 0.9239133\n",
    "    df['abs_diff_1']=abs(df['OTB_to_survive']-df['fcst_svv'])\n",
    "    df['abs_diff_2']=abs(df['OTB_to_survive']-avg_svv_rt*df['OTB'])\n",
    "    df1=df[df['dp_range']=='1_7']\n",
    "    df2=df[df['dp_range']=='8_14']\n",
    "    df3=df[df['dp_range']=='15_21']\n",
    "    df4=df[df['dp_range']=='22_28']\n",
    "    df5=df[df['dp_range']=='29_32']\n",
    "    # MAE\n",
    "    mae1=mean_absolute_error(df1['OTB_to_survive'], df1['fcst_svv'])\n",
    "    mae2=mean_absolute_error(df2['OTB_to_survive'], df2['fcst_svv'])\n",
    "    mae3=mean_absolute_error(df3['OTB_to_survive'], df3['fcst_svv'])\n",
    "    mae4=mean_absolute_error(df4['OTB_to_survive'], df4['fcst_svv'])\n",
    "    mae5=mean_absolute_error(df5['OTB_to_survive'], df5['fcst_svv'])\n",
    "    maedf = pd.DataFrame({'dp_range' : ['1_7','8_14','15_21','22_28','29_32'],\n",
    "                           'MAE':[mae1, mae2, mae3, mae4, mae5]})\n",
    "    #MASE\n",
    "    mase1=sum(df1['abs_diff_1'])/sum(df1['abs_diff_2'])\n",
    "    mase2=sum(df2['abs_diff_1'])/sum(df2['abs_diff_2'])\n",
    "    mase3=sum(df3['abs_diff_1'])/sum(df3['abs_diff_2'])\n",
    "    mase4=sum(df4['abs_diff_1'])/sum(df4['abs_diff_2'])\n",
    "    mase5=sum(df5['abs_diff_1'])/sum(df5['abs_diff_2'])\n",
    "    masedf = pd.DataFrame({'dp_range' : ['1_7','8_14','15_21','22_28','29_32'],\n",
    "                           'MASE':[mase1, mase2, mase3, mase4, mase5]})\n",
    "    #MAPE\n",
    "    newdf1=df1[df1['OTB_to_survive']!=0]\n",
    "    newdf2=df2[df2['OTB_to_survive']!=0]\n",
    "    newdf3=df3[df3['OTB_to_survive']!=0]\n",
    "    newdf4=df4[df4['OTB_to_survive']!=0]\n",
    "    newdf5=df5[df5['OTB_to_survive']!=0]\n",
    "    mape1=mean_absolute_percentage_error(newdf1['OTB_to_survive'], newdf1['fcst_svv'])\n",
    "    mape2=mean_absolute_percentage_error(newdf2['OTB_to_survive'], newdf2['fcst_svv'])\n",
    "    mape3=mean_absolute_percentage_error(newdf3['OTB_to_survive'], newdf3['fcst_svv']) \n",
    "    mape4=mean_absolute_percentage_error(newdf4['OTB_to_survive'], newdf4['fcst_svv'])\n",
    "    mape5=mean_absolute_percentage_error(newdf5['OTB_to_survive'], newdf5['fcst_svv'])\n",
    "    mapedf = pd.DataFrame({'dp_range' : ['1_7','8_14','15_21','22_28','29_32'],\n",
    "                           'MAPE':[mape1, mape2, mape3, mape4, mape5]})\n",
    "    \n",
    "    report = pd.merge(pd.merge(maedf, mapedf, on='dp_range'), masedf, on='dp_range')\n",
    "    report = report[['dp_range','MAE','MAPE','MASE']]\n",
    "    return report"
   ]
  },
  {
   "cell_type": "markdown",
   "metadata": {},
   "source": [
    "# Atlanta"
   ]
  },
  {
   "cell_type": "code",
   "execution_count": null,
   "metadata": {},
   "outputs": [],
   "source": [
    "h1_train = pd.read_csv(\"h1_train.csv\", sep=',',header=0, index_col=0)\n",
    "h1_test = pd.read_csv(\"h1_test.csv\", sep=',',header=0, index_col=0)\n",
    "\n",
    "X_train = h1_train[['days_prior', 'day_type', 'OP_FENC',\n",
    "       'CORP_BUS', 'MEM_OTHER', 'GOV_UNFENC', 'GROUP', 'price',\n",
    "       'cummulative_gross_bookings']]\n",
    "X_test = h1_test[['days_prior', 'day_type', 'OP_FENC',\n",
    "       'CORP_BUS', 'MEM_OTHER', 'GOV_UNFENC', 'GROUP', 'price',\n",
    "       'cummulative_gross_bookings']]\n",
    "y_train = h1_train['OTB_cxl_rate']\n",
    "y_test = h1_test['OTB_cxl_rate']\n",
    "\n",
    "scaler = StandardScaler()\n",
    "scaler.fit(X_train)\n",
    "X_train_scl = scaler.transform(X_train)\n",
    "X_test_scl = scaler.transform(X_test)"
   ]
  },
  {
   "cell_type": "code",
   "execution_count": 96,
   "metadata": {},
   "outputs": [
    {
     "name": "stdout",
     "output_type": "stream",
     "text": [
      "in-sample\n",
      "  dp_range       MAE      MAPE      MASE\n",
      "0      1_7  2.789072  0.078074  0.899044\n",
      "1     8_14  2.025311  0.084618  0.955392\n",
      "2    15_21  2.190999  0.139859  0.993230\n",
      "3    22_28  1.888682  0.136564  0.991026\n",
      "4    29_32  1.791243  0.130678  0.902209\n",
      "on test data\n",
      "  dp_range       MAE      MAPE      MASE\n",
      "0      1_7  2.999640  0.081150  0.956196\n",
      "1     8_14  2.213859  0.096182  1.037763\n",
      "2    15_21  2.121074  0.122752  1.062890\n",
      "3    22_28  2.027435  0.113851  1.138293\n",
      "4    29_32  1.987422  0.116616  1.208481\n"
     ]
    }
   ],
   "source": [
    "## layer = 4,12,4 --- result changes everytime\n",
    "## Multi-layer perceptron classification - one hidden layer of 3 neurons\n",
    "mlp = MLPRegressor(hidden_layer_sizes=(4,12,4), max_iter=1000)  \n",
    "mlp.fit(X_train_scl, y_train)\n",
    "\n",
    "h1_train['predict_cxl_rate']=list(mlp.predict(X_train_scl))\n",
    "h1_test['predict_cxl_rate']=list(mlp.predict(X_test_scl))  \n",
    "\n",
    "print('in-sample')\n",
    "print(eval(h1_train))\n",
    "print('on test data')\n",
    "print(eval(h1_test))"
   ]
  },
  {
   "cell_type": "code",
   "execution_count": 101,
   "metadata": {},
   "outputs": [
    {
     "name": "stdout",
     "output_type": "stream",
     "text": [
      "in-sample\n",
      "  dp_range       MAE      MAPE      MASE\n",
      "0      1_7  2.833260  0.074132  0.913288\n",
      "1     8_14  2.516790  0.086698  1.187235\n",
      "2    15_21  2.624465  0.142285  1.189729\n",
      "3    22_28  2.376848  0.142719  1.247176\n",
      "4    29_32  2.404168  0.146783  1.210926\n",
      "on test data\n",
      "  dp_range       MAE      MAPE      MASE\n",
      "0      1_7  2.410308  0.082682  0.768334\n",
      "1     8_14  2.391636  0.103848  1.121097\n",
      "2    15_21  1.656556  0.127831  0.830116\n",
      "3    22_28  1.761183  0.110431  0.988808\n",
      "4    29_32  2.227635  0.116905  1.354547\n"
     ]
    }
   ],
   "source": [
    "## layer = 3,10,10\n",
    "## Multi-layer perceptron classification - one hidden layer of 3 neurons\n",
    "mlp = MLPRegressor(hidden_layer_sizes=(3,10,10), max_iter=1000)  \n",
    "mlp.fit(X_train_scl, y_train)\n",
    "\n",
    "h1_train['predict_cxl_rate']=list(mlp.predict(X_train_scl))\n",
    "h1_test['predict_cxl_rate']=list(mlp.predict(X_test_scl))  \n",
    "\n",
    "print('in-sample')\n",
    "print(eval(h1_train))\n",
    "print('on test data')\n",
    "print(eval(h1_test))"
   ]
  },
  {
   "cell_type": "markdown",
   "metadata": {},
   "source": [
    "# New York"
   ]
  },
  {
   "cell_type": "code",
   "execution_count": 105,
   "metadata": {},
   "outputs": [],
   "source": [
    "h2_train = pd.read_csv(\"h2_train.csv\", sep=',',header=0, index_col=0)\n",
    "h2_test = pd.read_csv(\"h2_test.csv\", sep=',',header=0, index_col=0)\n",
    "\n",
    "X_train = h2_train[['days_prior', 'day_type', 'OP_FENC_OTH',\n",
    "       'CORP_GROUP_TACT', 'UNF_WHOLE_MEM_BUS', 'GOVERNMENT', 'price',\n",
    "       'cummulative_gross_bookings']]\n",
    "X_test = h2_test[['days_prior', 'day_type', 'OP_FENC_OTH',\n",
    "       'CORP_GROUP_TACT', 'UNF_WHOLE_MEM_BUS', 'GOVERNMENT', 'price',\n",
    "       'cummulative_gross_bookings']]\n",
    "y_train = h2_train['OTB_cxl_rate']\n",
    "y_test = h2_test['OTB_cxl_rate']\n",
    "\n",
    "scaler = StandardScaler()\n",
    "scaler.fit(X_train)\n",
    "X_train_scl = scaler.transform(X_train)\n",
    "X_test_scl = scaler.transform(X_test)"
   ]
  },
  {
   "cell_type": "code",
   "execution_count": 108,
   "metadata": {},
   "outputs": [
    {
     "name": "stdout",
     "output_type": "stream",
     "text": [
      "in-sample\n",
      "  dp_range       MAE      MAPE      MASE\n",
      "0      1_7  2.103307  0.061403  0.706518\n",
      "1     8_14  2.153467  0.080272  0.905123\n",
      "2    15_21  1.957984  0.082518  0.787223\n",
      "3    22_28  2.173930  0.097549  0.924510\n",
      "4    29_32  2.557315  0.119014  1.096217\n",
      "on test data\n",
      "  dp_range       MAE      MAPE      MASE\n",
      "0      1_7  2.908173  0.056239  0.711490\n",
      "1     8_14  2.013907  0.062850  0.678487\n",
      "2    15_21  1.928240  0.068139  0.782941\n",
      "3    22_28  2.275432  0.090793  1.038999\n",
      "4    29_32  2.764027  0.109090  1.186032\n"
     ]
    }
   ],
   "source": [
    "## layer = 5,10,2 --- result changes everytime\n",
    "## Multi-layer perceptron classification - one hidden layer of 3 neurons\n",
    "mlp = MLPRegressor(hidden_layer_sizes=(5,10,2), max_iter=1000)  \n",
    "mlp.fit(X_train_scl, y_train)\n",
    "\n",
    "h2_train['predict_cxl_rate']=list(mlp.predict(X_train_scl))\n",
    "h2_test['predict_cxl_rate']=list(mlp.predict(X_test_scl))  \n",
    "\n",
    "print('in-sample')\n",
    "print(eval(h2_train))\n",
    "print('on test data')\n",
    "print(eval(h2_test))"
   ]
  },
  {
   "cell_type": "code",
   "execution_count": 110,
   "metadata": {},
   "outputs": [
    {
     "name": "stdout",
     "output_type": "stream",
     "text": [
      "in-sample\n",
      "  dp_range       MAE      MAPE      MASE\n",
      "0      1_7  1.995429  0.059967  0.670281\n",
      "1     8_14  1.969823  0.080301  0.827936\n",
      "2    15_21  2.054748  0.083300  0.826127\n",
      "3    22_28  1.924055  0.093543  0.818246\n",
      "4    29_32  2.149264  0.112405  0.921302\n",
      "on test data\n",
      "  dp_range       MAE      MAPE      MASE\n",
      "0      1_7  2.701236  0.049059  0.660862\n",
      "1     8_14  1.954017  0.063069  0.658310\n",
      "2    15_21  1.714934  0.068813  0.696330\n",
      "3    22_28  1.935014  0.093031  0.883558\n",
      "4    29_32  2.242430  0.114157  0.962216\n"
     ]
    }
   ],
   "source": [
    "## layer = 8,12,22 --- result changes everytime\n",
    "## Multi-layer perceptron classification - one hidden layer of 3 neurons\n",
    "mlp = MLPRegressor(hidden_layer_sizes=(8,12,22), max_iter=1000)  \n",
    "mlp.fit(X_train_scl, y_train)\n",
    "\n",
    "h2_train['predict_cxl_rate']=list(mlp.predict(X_train_scl))\n",
    "h2_test['predict_cxl_rate']=list(mlp.predict(X_test_scl))  \n",
    "\n",
    "print('in-sample')\n",
    "print(eval(h2_train))\n",
    "print('on test data')\n",
    "print(eval(h2_test))"
   ]
  },
  {
   "cell_type": "code",
   "execution_count": null,
   "metadata": {},
   "outputs": [],
   "source": []
  }
 ],
 "metadata": {
  "kernelspec": {
   "display_name": "Python 3",
   "language": "python",
   "name": "python3"
  },
  "language_info": {
   "codemirror_mode": {
    "name": "ipython",
    "version": 3
   },
   "file_extension": ".py",
   "mimetype": "text/x-python",
   "name": "python",
   "nbconvert_exporter": "python",
   "pygments_lexer": "ipython3",
   "version": "3.5.5"
  },
  "widgets": {
   "state": {},
   "version": "1.1.2"
  }
 },
 "nbformat": 4,
 "nbformat_minor": 2
}
